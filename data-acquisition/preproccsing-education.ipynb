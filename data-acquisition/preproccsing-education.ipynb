{
 "cells": [
  {
   "cell_type": "code",
   "execution_count": 1,
   "id": "d9987039-9438-48ae-95e7-65d091892020",
   "metadata": {},
   "outputs": [],
   "source": [
    "import os"
   ]
  },
  {
   "cell_type": "code",
   "execution_count": 2,
   "id": "62249da2-1a87-46af-a196-3955a6b982ec",
   "metadata": {},
   "outputs": [
    {
     "name": "stdout",
     "output_type": "stream",
     "text": [
      "/media/hossein/9a14f362-81ea-41b1-bc47-0fd70f8f35cd/TavaSystem/resume-persian/data-acquisition\n"
     ]
    }
   ],
   "source": [
    "path = os.getcwd()\n",
    "print(path)"
   ]
  },
  {
   "cell_type": "code",
   "execution_count": 3,
   "id": "fe1803f8-6101-4727-b62e-a4c414469d23",
   "metadata": {},
   "outputs": [],
   "source": [
    "path = str(path).replace('data-acquisition', '')"
   ]
  },
  {
   "cell_type": "code",
   "execution_count": 4,
   "id": "67ac891b-d229-407c-8895-241dae7ef267",
   "metadata": {},
   "outputs": [],
   "source": [
    "import pandas as pd"
   ]
  },
  {
   "cell_type": "code",
   "execution_count": 5,
   "id": "95f47cb2-5190-45f2-b45c-0405e5fffccd",
   "metadata": {},
   "outputs": [],
   "source": [
    "data = pd.read_csv(path + '/data/resume.csv')"
   ]
  },
  {
   "cell_type": "code",
   "execution_count": 7,
   "id": "5e566701-55e1-4e51-a1de-f9fd41b61b32",
   "metadata": {},
   "outputs": [
    {
     "name": "stdout",
     "output_type": "stream",
     "text": [
      "154\n"
     ]
    }
   ],
   "source": [
    "with open(path + '/data/education.txt') as file:\n",
    "    files = file.readlines()\n",
    "    print(len(files))"
   ]
  },
  {
   "cell_type": "code",
   "execution_count": 12,
   "id": "a6e48c75-4554-4fe5-82cb-53a042419c99",
   "metadata": {},
   "outputs": [
    {
     "name": "stderr",
     "output_type": "stream",
     "text": [
      "/tmp/ipykernel_5989/4066472505.py:5: FutureWarning: Setting an item of incompatible dtype is deprecated and will raise an error in a future version of pandas. Value 'علوم ارتباطات اجتماعی\n",
      "' has dtype incompatible with float64, please explicitly cast to a compatible dtype first.\n",
      "  data.loc[i, 'رشته تحصیلی'] = files[rand]\n"
     ]
    },
    {
     "name": "stdout",
     "output_type": "stream",
     "text": [
      "write successfuly\n"
     ]
    }
   ],
   "source": [
    "import random\n",
    "i = 0\n",
    "for item in data['رشته تحصیلی']:\n",
    "    rand = random.randint(0, len(files)-1)\n",
    "    data.loc[i, 'رشته تحصیلی'] = files[rand]\n",
    "    i += 1\n",
    "data.to_csv(path + '/data/resume.csv', index=False)\n",
    "print('write successfuly')"
   ]
  },
  {
   "cell_type": "code",
   "execution_count": 13,
   "id": "ad94f880-6c5a-4033-80bb-6f16a8706e25",
   "metadata": {},
   "outputs": [
    {
     "data": {
      "text/html": [
       "<div>\n",
       "<style scoped>\n",
       "    .dataframe tbody tr th:only-of-type {\n",
       "        vertical-align: middle;\n",
       "    }\n",
       "\n",
       "    .dataframe tbody tr th {\n",
       "        vertical-align: top;\n",
       "    }\n",
       "\n",
       "    .dataframe thead th {\n",
       "        text-align: right;\n",
       "    }\n",
       "</style>\n",
       "<table border=\"1\" class=\"dataframe\">\n",
       "  <thead>\n",
       "    <tr style=\"text-align: right;\">\n",
       "      <th></th>\n",
       "      <th>نام</th>\n",
       "      <th>نام خانوادگی</th>\n",
       "      <th>آدرس</th>\n",
       "      <th>جنسیت</th>\n",
       "      <th>معدل</th>\n",
       "      <th>مقطع تحصیلی</th>\n",
       "      <th>رشته تحصیلی</th>\n",
       "      <th>سن</th>\n",
       "      <th>مهارت</th>\n",
       "      <th>تجربه کاری(به سال)</th>\n",
       "    </tr>\n",
       "  </thead>\n",
       "  <tbody>\n",
       "    <tr>\n",
       "      <th>0</th>\n",
       "      <td>علي</td>\n",
       "      <td>ابوذر\\n</td>\n",
       "      <td>خيابان مسعود بخت آزاد (ارباب مهدي) . نبش خيابا...</td>\n",
       "      <td>1</td>\n",
       "      <td>21</td>\n",
       "      <td>کارشناسی (لیسانس)</td>\n",
       "      <td>علوم ارتباطات اجتماعی\\n</td>\n",
       "      <td>51</td>\n",
       "      <td>پلیس \\n</td>\n",
       "      <td>5</td>\n",
       "    </tr>\n",
       "    <tr>\n",
       "      <th>1</th>\n",
       "      <td>محمد</td>\n",
       "      <td>جنتی\\n</td>\n",
       "      <td>شهرک شریعتی خ ما هان ک 22</td>\n",
       "      <td>1</td>\n",
       "      <td>16</td>\n",
       "      <td>کارشناسی ارشد یا بالاتر</td>\n",
       "      <td>حقوق\\n</td>\n",
       "      <td>27</td>\n",
       "      <td>نقاش  \\n</td>\n",
       "      <td>7</td>\n",
       "    </tr>\n",
       "    <tr>\n",
       "      <th>2</th>\n",
       "      <td>مريم</td>\n",
       "      <td>گل محمدی\\n</td>\n",
       "      <td>شهرک غرب - بلوار فرهزادی - خ حافظی - نبش دل شاد</td>\n",
       "      <td>0</td>\n",
       "      <td>21</td>\n",
       "      <td>ابتدایی یا متوسطه</td>\n",
       "      <td>مهندسی راه‌آهن\\n</td>\n",
       "      <td>41</td>\n",
       "      <td>مهندسی نساجی\\n</td>\n",
       "      <td>3</td>\n",
       "    </tr>\n",
       "    <tr>\n",
       "      <th>3</th>\n",
       "      <td>مهدي</td>\n",
       "      <td>شاملو\\n</td>\n",
       "      <td>مهراباد جنوبی خ واشقانی فراهانی نبش شامبولی غر...</td>\n",
       "      <td>1</td>\n",
       "      <td>24</td>\n",
       "      <td>دیپلم</td>\n",
       "      <td>شیلات\\n</td>\n",
       "      <td>53</td>\n",
       "      <td>مهندس معماری\\n</td>\n",
       "      <td>23</td>\n",
       "    </tr>\n",
       "    <tr>\n",
       "      <th>4</th>\n",
       "      <td>حسين</td>\n",
       "      <td>خامنه‌ای\\n</td>\n",
       "      <td>ولنجک-انتهای خ 22- گلستان چهارم غربی- بیمارستا...</td>\n",
       "      <td>0</td>\n",
       "      <td>24</td>\n",
       "      <td>دیپلم</td>\n",
       "      <td>مهندسی مواد\\n</td>\n",
       "      <td>31</td>\n",
       "      <td>عکاس \\n</td>\n",
       "      <td>10</td>\n",
       "    </tr>\n",
       "    <tr>\n",
       "      <th>...</th>\n",
       "      <td>...</td>\n",
       "      <td>...</td>\n",
       "      <td>...</td>\n",
       "      <td>...</td>\n",
       "      <td>...</td>\n",
       "      <td>...</td>\n",
       "      <td>...</td>\n",
       "      <td>...</td>\n",
       "      <td>...</td>\n",
       "      <td>...</td>\n",
       "    </tr>\n",
       "    <tr>\n",
       "      <th>4048</th>\n",
       "      <td>يوسف علي</td>\n",
       "      <td>ملکیان\\n</td>\n",
       "      <td>چهارراه مخبر الدوله -کوچه رفاهی</td>\n",
       "      <td>1</td>\n",
       "      <td>23</td>\n",
       "      <td>کارشناسی ارشد یا بالاتر</td>\n",
       "      <td>پرستاری\\n</td>\n",
       "      <td>43</td>\n",
       "      <td>ماهیگیر\\n</td>\n",
       "      <td>8</td>\n",
       "    </tr>\n",
       "    <tr>\n",
       "      <th>4049</th>\n",
       "      <td>يوسف مهدي</td>\n",
       "      <td>لاجوردی\\n</td>\n",
       "      <td>سه راه آذری خیابان شبیری</td>\n",
       "      <td>0</td>\n",
       "      <td>13</td>\n",
       "      <td>ابتدایی یا متوسطه</td>\n",
       "      <td>حقوق\\n</td>\n",
       "      <td>28</td>\n",
       "      <td>بازیگر  \\n</td>\n",
       "      <td>7</td>\n",
       "    </tr>\n",
       "    <tr>\n",
       "      <th>4050</th>\n",
       "      <td>يونا</td>\n",
       "      <td>رفیعی\\n</td>\n",
       "      <td>تهران پارس  بین عادل زرین وکوچه اذری راد</td>\n",
       "      <td>0</td>\n",
       "      <td>24</td>\n",
       "      <td>کارشناسی (لیسانس)</td>\n",
       "      <td>مهندسی ماشین‌های کشاورزی\\n</td>\n",
       "      <td>51</td>\n",
       "      <td>عکاس \\n</td>\n",
       "      <td>8</td>\n",
       "    </tr>\n",
       "    <tr>\n",
       "      <th>4051</th>\n",
       "      <td>يونس رضا</td>\n",
       "      <td>شاملو\\n</td>\n",
       "      <td>مرزداران غرب . نرسیده به اشرفی اصفهانی . بلوار...</td>\n",
       "      <td>1</td>\n",
       "      <td>23</td>\n",
       "      <td>کارشناسی ارشد یا بالاتر</td>\n",
       "      <td>علوم ارتباطات اجتماعی\\n</td>\n",
       "      <td>54</td>\n",
       "      <td>اپراتور لوکوموتیو\\n</td>\n",
       "      <td>23</td>\n",
       "    </tr>\n",
       "    <tr>\n",
       "      <th>4052</th>\n",
       "      <td>يونس علي</td>\n",
       "      <td>شریعتمداری\\n</td>\n",
       "      <td>پیچ شمیران خیابان صفی علیشاه</td>\n",
       "      <td>0</td>\n",
       "      <td>13</td>\n",
       "      <td>ابتدایی یا متوسطه</td>\n",
       "      <td>تلویزیون و هنرهای دیجیتال\\n</td>\n",
       "      <td>29</td>\n",
       "      <td>قاضی \\n</td>\n",
       "      <td>0</td>\n",
       "    </tr>\n",
       "  </tbody>\n",
       "</table>\n",
       "<p>4053 rows × 10 columns</p>\n",
       "</div>"
      ],
      "text/plain": [
       "            نام  نام خانوادگی  \\\n",
       "0           علي       ابوذر\\n   \n",
       "1          محمد        جنتی\\n   \n",
       "2          مريم    گل محمدی\\n   \n",
       "3          مهدي       شاملو\\n   \n",
       "4          حسين    خامنه‌ای\\n   \n",
       "...         ...           ...   \n",
       "4048   يوسف علي      ملکیان\\n   \n",
       "4049  يوسف مهدي     لاجوردی\\n   \n",
       "4050       يونا       رفیعی\\n   \n",
       "4051   يونس رضا       شاملو\\n   \n",
       "4052   يونس علي  شریعتمداری\\n   \n",
       "\n",
       "                                                   آدرس  جنسیت  معدل  \\\n",
       "0     خيابان مسعود بخت آزاد (ارباب مهدي) . نبش خيابا...      1    21   \n",
       "1                             شهرک شریعتی خ ما هان ک 22      1    16   \n",
       "2       شهرک غرب - بلوار فرهزادی - خ حافظی - نبش دل شاد      0    21   \n",
       "3     مهراباد جنوبی خ واشقانی فراهانی نبش شامبولی غر...      1    24   \n",
       "4     ولنجک-انتهای خ 22- گلستان چهارم غربی- بیمارستا...      0    24   \n",
       "...                                                 ...    ...   ...   \n",
       "4048                    چهارراه مخبر الدوله -کوچه رفاهی      1    23   \n",
       "4049                           سه راه آذری خیابان شبیری      0    13   \n",
       "4050           تهران پارس  بین عادل زرین وکوچه اذری راد      0    24   \n",
       "4051  مرزداران غرب . نرسیده به اشرفی اصفهانی . بلوار...      1    23   \n",
       "4052                       پیچ شمیران خیابان صفی علیشاه      0    13   \n",
       "\n",
       "                  مقطع تحصیلی                  رشته تحصیلی  سن  \\\n",
       "0           کارشناسی (لیسانس)      علوم ارتباطات اجتماعی\\n  51   \n",
       "1     کارشناسی ارشد یا بالاتر                       حقوق\\n  27   \n",
       "2           ابتدایی یا متوسطه             مهندسی راه‌آهن\\n  41   \n",
       "3                       دیپلم                      شیلات\\n  53   \n",
       "4                       دیپلم                مهندسی مواد\\n  31   \n",
       "...                       ...                          ...  ..   \n",
       "4048  کارشناسی ارشد یا بالاتر                    پرستاری\\n  43   \n",
       "4049        ابتدایی یا متوسطه                       حقوق\\n  28   \n",
       "4050        کارشناسی (لیسانس)   مهندسی ماشین‌های کشاورزی\\n  51   \n",
       "4051  کارشناسی ارشد یا بالاتر      علوم ارتباطات اجتماعی\\n  54   \n",
       "4052        ابتدایی یا متوسطه  تلویزیون و هنرهای دیجیتال\\n  29   \n",
       "\n",
       "                    مهارت  تجربه کاری(به سال)  \n",
       "0                 پلیس \\n                   5  \n",
       "1                نقاش  \\n                   7  \n",
       "2          مهندسی نساجی\\n                   3  \n",
       "3          مهندس معماری\\n                  23  \n",
       "4                 عکاس \\n                  10  \n",
       "...                   ...                 ...  \n",
       "4048            ماهیگیر\\n                   8  \n",
       "4049           بازیگر  \\n                   7  \n",
       "4050              عکاس \\n                   8  \n",
       "4051  اپراتور لوکوموتیو\\n                  23  \n",
       "4052              قاضی \\n                   0  \n",
       "\n",
       "[4053 rows x 10 columns]"
      ]
     },
     "execution_count": 13,
     "metadata": {},
     "output_type": "execute_result"
    }
   ],
   "source": [
    "data"
   ]
  },
  {
   "cell_type": "code",
   "execution_count": null,
   "id": "51839d43-bc9a-421a-8d04-4d6c430b1055",
   "metadata": {},
   "outputs": [],
   "source": []
  }
 ],
 "metadata": {
  "kernelspec": {
   "display_name": "Python 3 (ipykernel)",
   "language": "python",
   "name": "python3"
  },
  "language_info": {
   "codemirror_mode": {
    "name": "ipython",
    "version": 3
   },
   "file_extension": ".py",
   "mimetype": "text/x-python",
   "name": "python",
   "nbconvert_exporter": "python",
   "pygments_lexer": "ipython3",
   "version": "3.11.5"
  }
 },
 "nbformat": 4,
 "nbformat_minor": 5
}
