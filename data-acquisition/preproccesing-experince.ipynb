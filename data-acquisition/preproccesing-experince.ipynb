{
 "cells": [
  {
   "cell_type": "code",
   "execution_count": 1,
   "id": "8417afe3-d408-4490-bc9f-dc6a08e7b125",
   "metadata": {},
   "outputs": [],
   "source": [
    "import os"
   ]
  },
  {
   "cell_type": "code",
   "execution_count": 2,
   "id": "4b5fef09-0002-40d9-ba09-3337f8ba0c14",
   "metadata": {},
   "outputs": [
    {
     "name": "stdout",
     "output_type": "stream",
     "text": [
      "/media/hossein/9a14f362-81ea-41b1-bc47-0fd70f8f35cd/TavaSystem/resume-persian/data-acquisition\n"
     ]
    }
   ],
   "source": [
    "path = os.getcwd()\n",
    "print(path)"
   ]
  },
  {
   "cell_type": "code",
   "execution_count": 3,
   "id": "9d75eed8-5bc6-4e86-887b-c84d7a77edc4",
   "metadata": {},
   "outputs": [],
   "source": [
    "path = str(path).replace('data-acquisition', '')"
   ]
  },
  {
   "cell_type": "code",
   "execution_count": 4,
   "id": "5e6461b0-ea07-4ff0-b256-4b52cd39bd9e",
   "metadata": {},
   "outputs": [],
   "source": [
    "import pandas as pd"
   ]
  },
  {
   "cell_type": "code",
   "execution_count": 5,
   "id": "6981b84a-9ab7-46bb-abbb-68a6dc9d5109",
   "metadata": {},
   "outputs": [],
   "source": [
    "data = pd.read_csv(path + '/data/resume.csv')"
   ]
  },
  {
   "cell_type": "code",
   "execution_count": 8,
   "id": "eae9051f-48f2-49ad-a587-eab83ad98da3",
   "metadata": {},
   "outputs": [],
   "source": [
    "import random"
   ]
  },
  {
   "cell_type": "markdown",
   "id": "3c96f9ae-30e5-47d6-b1e5-f8d59f3b42d4",
   "metadata": {},
   "source": [
    "#### محاسبه تجربه کاری براساس سن\n",
    "#### تجربه کاری، عدد تصادفی بین 0 تا سن شخص می باشد"
   ]
  },
  {
   "cell_type": "code",
   "execution_count": 9,
   "id": "d567e63b-0d1e-4f06-9c97-b309b7a52acf",
   "metadata": {},
   "outputs": [
    {
     "name": "stdout",
     "output_type": "stream",
     "text": [
      "write successfuly\n"
     ]
    }
   ],
   "source": [
    "\n",
    "i = 0\n",
    "for item in data['سن']:\n",
    "    if item < 20:\n",
    "        data.loc[i, 'تجربه کاری(به سال)'] = random.randint(0, item // 4)\n",
    "    else:\n",
    "        data.loc[i, 'تجربه کاری(به سال)'] = random.randint(0, item // 2)\n",
    "    i += 1\n",
    "data.to_csv(path + '/data/resume.csv', index=False)\n",
    "print('write successfuly')\n"
   ]
  },
  {
   "cell_type": "markdown",
   "id": "55d8c3ba-8513-47af-888f-89828f9b59b1",
   "metadata": {},
   "source": [
    "#### pre-proccesing jobs"
   ]
  },
  {
   "cell_type": "code",
   "execution_count": 6,
   "id": "1e3f97c4-eb66-4b7e-a49a-369a2c3a5e45",
   "metadata": {},
   "outputs": [
    {
     "name": "stdout",
     "output_type": "stream",
     "text": [
      "119\n"
     ]
    }
   ],
   "source": [
    "with open(path + '/data/jobs.txt') as file:\n",
    "    files = file.readlines()\n",
    "    print(len(files))"
   ]
  },
  {
   "cell_type": "code",
   "execution_count": 9,
   "id": "4b026c22-1874-4ec7-8842-14bfe0581c44",
   "metadata": {},
   "outputs": [
    {
     "name": "stdout",
     "output_type": "stream",
     "text": [
      "write successfuly\n"
     ]
    }
   ],
   "source": [
    "i = 0\n",
    "for item in data['مهارت']:\n",
    "    rand = random.randint(0, len(files)-1)\n",
    "    data.loc[i, 'مهارت'] = files[rand]\n",
    "    i += 1\n",
    "data.to_csv(path + '/data/resume.csv', index=False)\n",
    "print('write successfuly')"
   ]
  },
  {
   "cell_type": "code",
   "execution_count": null,
   "id": "0c921f28-2b9b-4d81-a02b-7d778997d9f0",
   "metadata": {},
   "outputs": [],
   "source": []
  }
 ],
 "metadata": {
  "kernelspec": {
   "display_name": "Python 3 (ipykernel)",
   "language": "python",
   "name": "python3"
  },
  "language_info": {
   "codemirror_mode": {
    "name": "ipython",
    "version": 3
   },
   "file_extension": ".py",
   "mimetype": "text/x-python",
   "name": "python",
   "nbconvert_exporter": "python",
   "pygments_lexer": "ipython3",
   "version": "3.11.5"
  }
 },
 "nbformat": 4,
 "nbformat_minor": 5
}
