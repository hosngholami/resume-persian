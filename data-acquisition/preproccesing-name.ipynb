{
 "cells": [
  {
   "cell_type": "code",
   "execution_count": 22,
   "id": "b0dd13cb-e5a8-487c-84cd-f7ae06ebd0e4",
   "metadata": {},
   "outputs": [],
   "source": [
    "import os"
   ]
  },
  {
   "cell_type": "markdown",
   "id": "6859c3d0-4c26-4490-b8d0-602423b4243e",
   "metadata": {},
   "source": [
    "## Read File"
   ]
  },
  {
   "cell_type": "code",
   "execution_count": 23,
   "id": "77c97f5c-272c-4eab-a734-c367186d311d",
   "metadata": {},
   "outputs": [],
   "source": [
    "def read(file_name):\n",
    "    path = os.getcwd()\n",
    "    with open(path + file_name, 'r') as file:\n",
    "       return file.readlines()"
   ]
  },
  {
   "cell_type": "code",
   "execution_count": 24,
   "id": "dfad1b83-500b-41b3-8cf6-5c885e42150e",
   "metadata": {},
   "outputs": [],
   "source": [
    "def write(file_name, data):\n",
    "    path = os.getcwd()\n",
    "    with open(path + file_name, 'w') as file:\n",
    "        file.write(data)"
   ]
  },
  {
   "cell_type": "code",
   "execution_count": 77,
   "id": "1d335ee2-f5f6-418f-8a33-287db3fb40a4",
   "metadata": {},
   "outputs": [],
   "source": [
    "def clean_data(data: str) -> str:\n",
    "    clean_data = \"\"\n",
    "    for line in data:\n",
    "        line = str(line)\n",
    "        line = line.replace('<br>', '')\n",
    "        clean_data += line\n",
    "    return clean_data"
   ]
  },
  {
   "cell_type": "code",
   "execution_count": 78,
   "id": "67cb65c5-d8a1-4f65-beee-e0605efb36d3",
   "metadata": {},
   "outputs": [],
   "source": [
    "def main():\n",
    "    data = read('/data/name.txt')\n",
    "    data = clean_data(data)\n",
    "    write('/data/name.txt', data)\n"
   ]
  },
  {
   "cell_type": "code",
   "execution_count": 79,
   "id": "b291c1db-de8e-44d2-a3d1-70ed0e16ecfe",
   "metadata": {},
   "outputs": [],
   "source": [
    "main()"
   ]
  },
  {
   "cell_type": "code",
   "execution_count": null,
   "id": "661f7b79-ceec-48d7-aa28-48a7137d6215",
   "metadata": {},
   "outputs": [],
   "source": []
  }
 ],
 "metadata": {
  "kernelspec": {
   "display_name": "Python 3 (ipykernel)",
   "language": "python",
   "name": "python3"
  },
  "language_info": {
   "codemirror_mode": {
    "name": "ipython",
    "version": 3
   },
   "file_extension": ".py",
   "mimetype": "text/x-python",
   "name": "python",
   "nbconvert_exporter": "python",
   "pygments_lexer": "ipython3",
   "version": "3.11.5"
  }
 },
 "nbformat": 4,
 "nbformat_minor": 5
}
