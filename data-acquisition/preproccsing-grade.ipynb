{
 "cells": [
  {
   "cell_type": "code",
   "execution_count": 1,
   "id": "902a5013-2474-48e1-af72-886bb252d703",
   "metadata": {},
   "outputs": [],
   "source": [
    "import os"
   ]
  },
  {
   "cell_type": "code",
   "execution_count": 3,
   "id": "85019ec9-5e49-4612-944f-e0b582127961",
   "metadata": {},
   "outputs": [
    {
     "name": "stdout",
     "output_type": "stream",
     "text": [
      "/media/hossein/9a14f362-81ea-41b1-bc47-0fd70f8f35cd/TavaSystem/resume-persian/data-acquisition\n"
     ]
    }
   ],
   "source": [
    "path = os.getcwd()\n",
    "print(path)"
   ]
  },
  {
   "cell_type": "code",
   "execution_count": 4,
   "id": "d806eee7-5260-4f38-b7e1-e40653fa4e4c",
   "metadata": {},
   "outputs": [],
   "source": [
    "path = str(path).replace('data-acquisition', '')"
   ]
  },
  {
   "cell_type": "code",
   "execution_count": 5,
   "id": "122e2db3-cdbb-4651-ab87-fc0f7155fcc1",
   "metadata": {},
   "outputs": [],
   "source": [
    "import pandas as pd"
   ]
  },
  {
   "cell_type": "code",
   "execution_count": 6,
   "id": "3fb1fa69-9713-4eef-a315-ac2cdf118dab",
   "metadata": {},
   "outputs": [],
   "source": [
    "data = pd.read_csv(path + '/data/resume.csv')"
   ]
  },
  {
   "cell_type": "code",
   "execution_count": 11,
   "id": "f8c21e8f-07c0-4d13-96b2-e490f28a0ffe",
   "metadata": {},
   "outputs": [],
   "source": [
    "import random"
   ]
  },
  {
   "cell_type": "code",
   "execution_count": 12,
   "id": "f07da434-d610-4952-8bd5-40ecb966ed3e",
   "metadata": {},
   "outputs": [],
   "source": [
    "grades = ['-1', '0', '', 'ندارد',\n",
    " 'سیکل', 'دیپلم', 'فوق دیپلم', 'کاردانی', 'کارشناسی', 'لیسانس',\n",
    " 'فوق لیسانس', 'کارشناسی ارشد', 'دکترا', 'فوق دکترا']"
   ]
  },
  {
   "cell_type": "code",
   "execution_count": 14,
   "id": "6fb367c3-9277-4285-b1cc-223099c19660",
   "metadata": {},
   "outputs": [
    {
     "name": "stdout",
     "output_type": "stream",
     "text": [
      "write successfuly\n"
     ]
    }
   ],
   "source": [
    "i = 0\n",
    "for item in data['مقطع تحصیلی']:\n",
    "    rand = random.randint(0, len(grades)-1)\n",
    "    data.loc[i, 'مقطع تحصیلی'] = grades[rand]\n",
    "    i += 1\n",
    "data.to_csv(path + '/data/resume.csv', index=False)\n",
    "print('write successfuly')"
   ]
  },
  {
   "cell_type": "code",
   "execution_count": null,
   "id": "73ecd79d-10b4-4b07-ae38-3f1c0ae74ffb",
   "metadata": {},
   "outputs": [],
   "source": []
  }
 ],
 "metadata": {
  "kernelspec": {
   "display_name": "Python 3 (ipykernel)",
   "language": "python",
   "name": "python3"
  },
  "language_info": {
   "codemirror_mode": {
    "name": "ipython",
    "version": 3
   },
   "file_extension": ".py",
   "mimetype": "text/x-python",
   "name": "python",
   "nbconvert_exporter": "python",
   "pygments_lexer": "ipython3",
   "version": "3.11.5"
  }
 },
 "nbformat": 4,
 "nbformat_minor": 5
}
