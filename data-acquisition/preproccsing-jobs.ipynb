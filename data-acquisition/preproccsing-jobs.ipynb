{
 "cells": [
  {
   "cell_type": "markdown",
   "id": "98f8fc5f-81b3-44e3-8559-4b28c86b1d9c",
   "metadata": {},
   "source": [
    "## Pre Proccsing Jobs"
   ]
  },
  {
   "cell_type": "code",
   "execution_count": 20,
   "id": "30e8243a-64c3-44fd-bffc-a0251bff4e18",
   "metadata": {},
   "outputs": [],
   "source": [
    "import os"
   ]
  },
  {
   "cell_type": "code",
   "execution_count": 21,
   "id": "798328c5-19af-43d9-b646-c624f6d08a70",
   "metadata": {},
   "outputs": [],
   "source": [
    "def read(file_name):\n",
    "    path = os.getcwd()\n",
    "    path = str(path).replace('data-acquisition', '')\n",
    "    with open(path + file_name, 'r') as file:\n",
    "       return file.readlines()"
   ]
  },
  {
   "cell_type": "code",
   "execution_count": 26,
   "id": "903175c2-c01c-4df9-af13-706981683b5a",
   "metadata": {},
   "outputs": [],
   "source": [
    "def write(file_name, data):\n",
    "    path = os.getcwd()\n",
    "    path = str(path).replace('data-acquisition', '')\n",
    "    with open(path + file_name, 'w') as file:\n",
    "        file.write(data)"
   ]
  },
  {
   "cell_type": "code",
   "execution_count": 23,
   "id": "482b7db4-eb40-4f81-bb06-7f52227b40c6",
   "metadata": {},
   "outputs": [],
   "source": [
    "def clean_data(data: str) -> str:\n",
    "    clean_data = \"\"\n",
    "    for line in data:\n",
    "        line = str(line)\n",
    "        line = line.replace('- ', '')\n",
    "        clean_data += line\n",
    "    return clean_data"
   ]
  },
  {
   "cell_type": "code",
   "execution_count": 24,
   "id": "2b31cf7d-ceb1-4e90-834e-4415b44be4b7",
   "metadata": {},
   "outputs": [],
   "source": [
    "def main():\n",
    "    data = read('/data/jobs.txt')\n",
    "    data = clean_data(data)\n",
    "    write('/data/jobs.txt', data)"
   ]
  },
  {
   "cell_type": "code",
   "execution_count": 27,
   "id": "13c320e4-a3e8-4e14-bd42-2bdcc673cd51",
   "metadata": {},
   "outputs": [],
   "source": [
    "main()"
   ]
  }
 ],
 "metadata": {
  "kernelspec": {
   "display_name": "Python 3 (ipykernel)",
   "language": "python",
   "name": "python3"
  },
  "language_info": {
   "codemirror_mode": {
    "name": "ipython",
    "version": 3
   },
   "file_extension": ".py",
   "mimetype": "text/x-python",
   "name": "python",
   "nbconvert_exporter": "python",
   "pygments_lexer": "ipython3",
   "version": "3.11.5"
  }
 },
 "nbformat": 4,
 "nbformat_minor": 5
}
