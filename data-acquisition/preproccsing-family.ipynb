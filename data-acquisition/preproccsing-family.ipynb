{
 "cells": [
  {
   "cell_type": "markdown",
   "id": "d49525b9-3a4f-4248-9c02-3d0800b945e8",
   "metadata": {},
   "source": [
    "## Preproccsing Family"
   ]
  },
  {
   "cell_type": "code",
   "execution_count": 10,
   "id": "ab128f32-3c0f-486f-8ca8-608433ea5c35",
   "metadata": {},
   "outputs": [],
   "source": [
    "import os"
   ]
  },
  {
   "cell_type": "code",
   "execution_count": 11,
   "id": "7d8e0ca3-3b91-488e-998f-a4b2c3a508cd",
   "metadata": {},
   "outputs": [],
   "source": [
    "path = os.getcwd()\n",
    "path = str(path).replace('data-acquisition', '')"
   ]
  },
  {
   "cell_type": "code",
   "execution_count": 12,
   "id": "4d1c810d-316d-481a-91b1-7881aed5e2f2",
   "metadata": {},
   "outputs": [],
   "source": [
    "def read(file_name):\n",
    "    path = os.getcwd()\n",
    "    path = str(path).replace('data-acquisition', '')\n",
    "    with open(path + file_name, 'r') as file:\n",
    "       return file.readlines()"
   ]
  },
  {
   "cell_type": "code",
   "execution_count": 13,
   "id": "003ad051-ef01-4ff6-86fb-9a5c90f91d2e",
   "metadata": {},
   "outputs": [],
   "source": [
    "def write(file_name, data):\n",
    "  \n",
    "    with open(path + file_name, 'w') as file:\n",
    "        file.write(data)"
   ]
  },
  {
   "cell_type": "code",
   "execution_count": 14,
   "id": "9a07a987-f3d0-4274-aa76-83963d5b7db8",
   "metadata": {},
   "outputs": [],
   "source": [
    "with open(path + '/data/family.txt') as file:\n",
    "    files = file.readlines()\n"
   ]
  },
  {
   "cell_type": "code",
   "execution_count": 15,
   "id": "e322e775-f78a-4358-9265-b65a3dd2f387",
   "metadata": {},
   "outputs": [],
   "source": [
    "import random"
   ]
  },
  {
   "cell_type": "code",
   "execution_count": 17,
   "id": "bcbca696-2b0d-4f6c-82b2-ee7a213549a0",
   "metadata": {},
   "outputs": [],
   "source": [
    "import pandas as pd"
   ]
  },
  {
   "cell_type": "code",
   "execution_count": 18,
   "id": "797486f2-faea-4747-8797-a9737400293e",
   "metadata": {},
   "outputs": [],
   "source": [
    "data = pd.read_csv(path + '/data/resume.csv')"
   ]
  },
  {
   "cell_type": "code",
   "execution_count": 22,
   "id": "7b9a3b5f-5567-4de0-8b16-dc4cf6bc524b",
   "metadata": {},
   "outputs": [
    {
     "name": "stdout",
     "output_type": "stream",
     "text": [
      "write successfuly\n"
     ]
    }
   ],
   "source": [
    "import random\n",
    "i = 0\n",
    "for item in data['نام خانوادگی']:\n",
    "    rand = random.randint(0, len(files)-1)\n",
    "    data.loc[i, 'نام خانوادگی'] = files[rand]\n",
    "    i += 1\n",
    "data.to_csv(path + '/data/resume.csv', index=False)\n",
    "print('write successfuly')\n"
   ]
  },
  {
   "cell_type": "code",
   "execution_count": null,
   "id": "3aa5e382-e84d-454f-bafa-e7a4403a7946",
   "metadata": {},
   "outputs": [],
   "source": []
  }
 ],
 "metadata": {
  "kernelspec": {
   "display_name": "Python 3 (ipykernel)",
   "language": "python",
   "name": "python3"
  },
  "language_info": {
   "codemirror_mode": {
    "name": "ipython",
    "version": 3
   },
   "file_extension": ".py",
   "mimetype": "text/x-python",
   "name": "python",
   "nbconvert_exporter": "python",
   "pygments_lexer": "ipython3",
   "version": "3.11.5"
  }
 },
 "nbformat": 4,
 "nbformat_minor": 5
}
